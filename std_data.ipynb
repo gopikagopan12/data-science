{
 "cells": [
  {
   "cell_type": "code",
   "execution_count": 6,
   "id": "819a8918",
   "metadata": {},
   "outputs": [
    {
     "name": "stdout",
     "output_type": "stream",
     "text": [
      "Before Sorting:\n",
      "        name  roll_no semester branch\n",
      "a  Anastasia       12       s1    mca\n",
      "b       Dima        3       s3     ec\n",
      "c  Katherine        4       s2    mba\n",
      "d      James       17       s1     cs\n",
      "e      Emily       10       s3    mca\n",
      "f    Michael        5       s6     cs\n",
      "j    Matthew        7       s8    mca\n",
      "h      Laura        9       s1    eee\n",
      "i      Kevin       32       s2     ec\n",
      "j      Jonas       21       s3    eee\n",
      "After Sorting:\n",
      "        name  roll_no semester branch\n",
      "a  Anastasia       12       s1    mca\n",
      "b       Dima        3       s3     ec\n",
      "e      Emily       10       s3    mca\n",
      "d      James       17       s1     cs\n",
      "j      Jonas       21       s3    eee\n",
      "c  Katherine        4       s2    mba\n",
      "i      Kevin       32       s2     ec\n",
      "h      Laura        9       s1    eee\n",
      "j    Matthew        7       s8    mca\n",
      "f    Michael        5       s6     cs\n"
     ]
    }
   ],
   "source": [
    "import pandas as pd\n",
    "import numpy as np\n",
    "\n",
    "std_data={'name':['Anastasia','Dima','Katherine','James','Emily','Michael','Matthew','Laura','Kevin','Jonas'],'roll_no':[12,3,4,17,10,5,7,9,32,21],'semester':['s1','s3','s2','s1','s3','s6','s8','s1','s2','s3'],'branch':['mca','ec','mba','cs','mca','cs','mca','eee','ec','eee']}\n",
    "labels=['a','b','c','d','e','f','j','h','i','j']\n",
    "df=pd.DataFrame(exam_data,index=labels)\n",
    "print(\"Before Sorting:\")\n",
    "print(df)\n",
    "print(\"After Sorting:\")\n",
    "df=df.sort_values(by=['name'],ascending=True)\n",
    "print(df)"
   ]
  },
  {
   "cell_type": "code",
   "execution_count": null,
   "id": "74a27615",
   "metadata": {},
   "outputs": [],
   "source": []
  }
 ],
 "metadata": {
  "kernelspec": {
   "display_name": "Python 3",
   "language": "python",
   "name": "python3"
  },
  "language_info": {
   "codemirror_mode": {
    "name": "ipython",
    "version": 3
   },
   "file_extension": ".py",
   "mimetype": "text/x-python",
   "name": "python",
   "nbconvert_exporter": "python",
   "pygments_lexer": "ipython3",
   "version": "3.8.8"
  }
 },
 "nbformat": 4,
 "nbformat_minor": 5
}
